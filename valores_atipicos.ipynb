{
  "cells": [
    {
      "cell_type": "markdown",
      "metadata": {
        "colab_type": "text",
        "id": "view-in-github"
      },
      "source": [
        "<a href=\"https://colab.research.google.com/github/renatagomezc/Valores-Atipicos/blob/main/Actividad_3_1_(Valores_At%C3%ADpicos).ipynb\" target=\"_parent\"><img src=\"https://colab.research.google.com/assets/colab-badge.svg\" alt=\"Open In Colab\"/></a>"
      ]
    },
    {
      "cell_type": "code",
      "execution_count": null,
      "metadata": {
        "id": "2gFfXo-Awky1"
      },
      "outputs": [],
      "source": [
        "import pandas as pd\n",
        "import numpy as np\n",
        "import matplotlib.pyplot as plt"
      ]
    },
    {
      "cell_type": "code",
      "execution_count": null,
      "metadata": {
        "id": "XQWitFL8wlfq"
      },
      "outputs": [],
      "source": [
        "#Cargar archivo csv desde equipo\n",
        "#from google.colab import files\n",
        "#files.upload()"
      ]
    },
    {
      "cell_type": "code",
      "execution_count": null,
      "metadata": {
        "colab": {
          "base_uri": "https://localhost:8080/",
          "height": 299
        },
        "id": "XtbDSqWNwoaX",
        "outputId": "2ba5626e-ab6d-4cba-ff07-a339f7e36865"
      },
      "outputs": [],
      "source": [
        "df= pd.read_csv('Ventas_totales_sinnulos.csv', index_col=0)\n",
        "df.head()\n",
        "     "
      ]
    },
    {
      "cell_type": "markdown",
      "metadata": {
        "id": "y8eRVp_4xmla"
      },
      "source": [
        "Estoy utilizando el archivo de ventas totales ya limpios y sin valores nulos. Ya que esto fue realizo anteriormente en otra actividad. Por lo que ahora ya no hago limpieza del archivo ya que este ya se encuentra sin nulos"
      ]
    },
    {
      "cell_type": "code",
      "execution_count": null,
      "metadata": {
        "colab": {
          "base_uri": "https://localhost:8080/"
        },
        "id": "1H77_m5Nx6SK",
        "outputId": "ebcab5b1-1a80-43bc-e8c5-3c33f391eb04"
      },
      "outputs": [],
      "source": [
        "valores_nulos=df.isnull().sum()\n",
        "valores_nulos"
      ]
    },
    {
      "cell_type": "code",
      "execution_count": null,
      "metadata": {
        "colab": {
          "base_uri": "https://localhost:8080/"
        },
        "id": "AgXB4zjSAO-U",
        "outputId": "a9541589-8d98-493d-b2dd-4a280c738c30"
      },
      "outputs": [],
      "source": [
        "df.info()"
      ]
    },
    {
      "cell_type": "markdown",
      "metadata": {
        "id": "Fg83KuUI0BBI"
      },
      "source": [
        "#**ventas_precios_corrientes**"
      ]
    },
    {
      "cell_type": "code",
      "execution_count": null,
      "metadata": {
        "colab": {
          "base_uri": "https://localhost:8080/",
          "height": 333
        },
        "id": "5Achgdi0zxf5",
        "outputId": "cb9f229b-bda9-475f-9b26-e27eb034fc16"
      },
      "outputs": [],
      "source": [
        "fig = plt.figure(figsize =(7, 3))\n",
        "plt.hist(x=df[\"ventas_precios_corrientes\"], color='blue', rwidth=0.50)\n",
        "plt.title('Histograma de ventas_precios_corrientes')\n",
        "plt.xlabel('ventas_precios_corrientes')\n",
        "plt.ylabel('Frecuencia')\n",
        "plt.show()"
      ]
    },
    {
      "cell_type": "code",
      "execution_count": null,
      "metadata": {
        "colab": {
          "base_uri": "https://localhost:8080/",
          "height": 314
        },
        "id": "EqhbvFjvzqlG",
        "outputId": "7ac0a35d-fd83-46f1-f5bb-1b1a4327fdab"
      },
      "outputs": [],
      "source": [
        "fig = plt.figure(figsize =(5, 3))\n",
        "plt.boxplot(df[\"ventas_precios_corrientes\"]) \n",
        "plt.title(\"Outliers de ventas_precios_corriente\")\n",
        "plt.show()"
      ]
    },
    {
      "cell_type": "code",
      "execution_count": null,
      "metadata": {
        "colab": {
          "base_uri": "https://localhost:8080/",
          "height": 333
        },
        "id": "uNDU3eaW3_LR",
        "outputId": "d109b7cf-bfe4-4136-fb35-2f62ecc3da84"
      },
      "outputs": [],
      "source": [
        "fig = plt.figure(figsize =(5, 3))\n",
        "plt.hist(x=df[\"ventas_precios_corrientes\"], color='blue', rwidth=0.50)\n",
        "plt.title('Histograma de ventas_precios_corriente')\n",
        "plt.xlabel('ventas_precios_corriente')\n",
        "plt.ylabel('Frecuencia')\n",
        "plt.show()"
      ]
    },
    {
      "cell_type": "code",
      "execution_count": null,
      "metadata": {
        "colab": {
          "base_uri": "https://localhost:8080/",
          "height": 314
        },
        "id": "e48uQwA43_LR",
        "outputId": "73c27def-aa44-428c-e889-28e238cbeb7d"
      },
      "outputs": [],
      "source": [
        "fig = plt.figure(figsize =(5, 3))\n",
        "plt.boxplot(df[\"ventas_precios_corrientes\"]) \n",
        "plt.title(\"Outliers de ventas_precios_corrientes\")\n",
        "plt.show()"
      ]
    },
    {
      "cell_type": "code",
      "execution_count": null,
      "metadata": {
        "colab": {
          "base_uri": "https://localhost:8080/"
        },
        "id": "zWLBgI0o3_LS",
        "outputId": "063dcab3-bc26-47ff-fa9a-94e3ab8f34ef"
      },
      "outputs": [],
      "source": [
        "#Método aplicando Cuartiles. Encuentro cuartiles 0.25 y 0.75\n",
        "y=df[\"ventas_precios_corrientes\"]\n",
        "\n",
        "percentile25=y.quantile(0.25) #Q1\n",
        "percentile75=y.quantile(0.75) #Q3\n",
        "iqr= percentile75 - percentile25\n",
        "\n",
        "Limite_Superior_iqr= percentile75 + 1.5*iqr\n",
        "Limite_Inferior_iqr= percentile25 - 1.5*iqr\n",
        "print(\"Limite superior permitido\", Limite_Superior_iqr)\n",
        "print(\"Limite inferior permitido\", Limite_Inferior_iqr)"
      ]
    },
    {
      "cell_type": "code",
      "execution_count": null,
      "metadata": {
        "colab": {
          "base_uri": "https://localhost:8080/",
          "height": 174
        },
        "id": "-ojow9n13_LS",
        "outputId": "1b001deb-9d14-4d60-b1a8-505a74ece908"
      },
      "outputs": [],
      "source": [
        "#Encontramos Ouliers\n",
        "outliers_iqr= df[(y>Limite_Superior_iqr)|(y<Limite_Inferior_iqr)]\n",
        "outliers_iqr"
      ]
    },
    {
      "cell_type": "code",
      "execution_count": null,
      "metadata": {
        "colab": {
          "base_uri": "https://localhost:8080/",
          "height": 487
        },
        "id": "n1x9B_ys3_LS",
        "outputId": "29a24e87-1aa0-4867-8ce5-95b784bd323c"
      },
      "outputs": [],
      "source": [
        "#Obtenemos datos limpios\n",
        "data_clean_iqr= df[(y<=Limite_Superior_iqr)&(y>=Limite_Inferior_iqr)]\n",
        "data_clean_iqr"
      ]
    },
    {
      "cell_type": "code",
      "execution_count": null,
      "metadata": {
        "colab": {
          "base_uri": "https://localhost:8080/",
          "height": 314
        },
        "id": "2NBVfLP13_LT",
        "outputId": "eeafd70e-1665-4daf-bace-8d7d4d62cfb0"
      },
      "outputs": [],
      "source": [
        "#Realizamos diagrama de caja o bigote\n",
        "fig = plt.figure(figsize =(5, 3))\n",
        "plt.boxplot(data_clean_iqr[\"ventas_precios_corrientes\"]) \n",
        "plt.title(\"Outliers de ventas_precios_corrientes\")\n",
        "plt.show() #dibujamos el diagrama"
      ]
    },
    {
      "cell_type": "code",
      "execution_count": null,
      "metadata": {
        "colab": {
          "base_uri": "https://localhost:8080/",
          "height": 17
        },
        "id": "0Cf5oseS5AzW",
        "outputId": "cadd6522-a852-47e0-b7df-a6ae3765d2c5"
      },
      "outputs": [],
      "source": [
        "data_clean_iqr[\"ventas_precios_corrientes\"].to_csv('ventas_precios_corrientes.csv')\n",
        "files.download('ventas_precios_corrientes.csv')"
      ]
    },
    {
      "cell_type": "markdown",
      "metadata": {
        "id": "w62Ys9ua23mf"
      },
      "source": [
        "#**ventas_precios_constantes**"
      ]
    },
    {
      "cell_type": "code",
      "execution_count": null,
      "metadata": {
        "colab": {
          "base_uri": "https://localhost:8080/",
          "height": 333
        },
        "id": "DhT_irqk23mf",
        "outputId": "543d1b17-bc2b-4b2c-bd67-914b32f0524e"
      },
      "outputs": [],
      "source": [
        "fig = plt.figure(figsize =(5, 3))\n",
        "plt.hist(x=df[\"ventas_precios_constantes\"], color='blue', rwidth=0.50)\n",
        "plt.title('Histograma de ventas_precios_constantes')\n",
        "plt.xlabel('ventas_precios_constantes')\n",
        "plt.ylabel('Frecuencia')\n",
        "plt.show()"
      ]
    },
    {
      "cell_type": "code",
      "execution_count": null,
      "metadata": {
        "colab": {
          "base_uri": "https://localhost:8080/",
          "height": 314
        },
        "id": "037Qs1xO23mg",
        "outputId": "f46249d8-350b-4e67-eb30-d3c507508d1f"
      },
      "outputs": [],
      "source": [
        "fig = plt.figure(figsize =(5, 3))\n",
        "plt.boxplot(df[\"ventas_precios_constantes\"]) \n",
        "plt.title(\"Outliers de ventas_precios_constantes\")\n",
        "plt.show()"
      ]
    },
    {
      "cell_type": "code",
      "execution_count": null,
      "metadata": {
        "colab": {
          "base_uri": "https://localhost:8080/"
        },
        "id": "fBp2kUTU23mg",
        "outputId": "92f20c44-f45c-4a59-9202-5c6d9f9a7ffa"
      },
      "outputs": [],
      "source": [
        "#Método aplicando Cuartiles. Encuentro cuartiles 0.25 y 0.75\n",
        "y=df[\"ventas_precios_constantes\"]\n",
        "\n",
        "percentile25=y.quantile(0.25) #Q1\n",
        "percentile75=y.quantile(0.75) #Q3\n",
        "iqr= percentile75 - percentile25\n",
        "\n",
        "Limite_Superior_iqr= percentile75 + 1.5*iqr\n",
        "Limite_Inferior_iqr= percentile25 - 1.5*iqr\n",
        "print(\"Limite superior permitido\", Limite_Superior_iqr)\n",
        "print(\"Limite inferior permitido\", Limite_Inferior_iqr)"
      ]
    },
    {
      "cell_type": "code",
      "execution_count": null,
      "metadata": {
        "colab": {
          "base_uri": "https://localhost:8080/",
          "height": 237
        },
        "id": "XiVXkx0g23mh",
        "outputId": "7da41ed0-ccd1-4a70-f3e0-883cb2365548"
      },
      "outputs": [],
      "source": [
        "#Encontramos Ouliers\n",
        "outliers_iqr= df[(y>Limite_Superior_iqr)|(y<Limite_Inferior_iqr)]\n",
        "outliers_iqr"
      ]
    },
    {
      "cell_type": "code",
      "execution_count": null,
      "metadata": {
        "colab": {
          "base_uri": "https://localhost:8080/",
          "height": 487
        },
        "id": "tLsaagAS23mh",
        "outputId": "a595a06b-55ce-44db-b279-bf8a7eb9b8d7"
      },
      "outputs": [],
      "source": [
        "#Obtenemos datos limpios\n",
        "data_clean_iqr= df[(y<=Limite_Superior_iqr)&(y>=Limite_Inferior_iqr)]\n",
        "data_clean_iqr"
      ]
    },
    {
      "cell_type": "code",
      "execution_count": null,
      "metadata": {
        "colab": {
          "base_uri": "https://localhost:8080/",
          "height": 314
        },
        "id": "RKIdTbwA23mh",
        "outputId": "b68eff4e-a513-487c-9ce9-dd9ea508dbf5"
      },
      "outputs": [],
      "source": [
        "#Realizamos diagrama de caja o bigote\n",
        "fig = plt.figure(figsize =(5, 3))\n",
        "plt.boxplot(data_clean_iqr[\"ventas_precios_constantes\"]) \n",
        "plt.title(\"Outliers de ventas_precios_constantes\")\n",
        "plt.show() #dibujamos el diagrama"
      ]
    },
    {
      "cell_type": "code",
      "execution_count": null,
      "metadata": {
        "colab": {
          "base_uri": "https://localhost:8080/",
          "height": 17
        },
        "id": "JwNJnXOk5Kf6",
        "outputId": "7444e521-2d89-4d08-fed2-c471979e22c4"
      },
      "outputs": [],
      "source": [
        "data_clean_iqr[\"ventas_precios_constantes\"].to_csv('ventas_precios_constantes.csv')\n",
        "files.download('ventas_precios_constantes.csv')"
      ]
    },
    {
      "cell_type": "markdown",
      "metadata": {
        "id": "nYney5PZ4QHQ"
      },
      "source": [
        "#**ventas_totales_canal_venta** "
      ]
    },
    {
      "cell_type": "code",
      "execution_count": null,
      "metadata": {
        "colab": {
          "base_uri": "https://localhost:8080/",
          "height": 333
        },
        "id": "e36EUa2y4XYO",
        "outputId": "7f3fb280-989a-4c77-8a5f-71212116f94d"
      },
      "outputs": [],
      "source": [
        "fig = plt.figure(figsize =(5, 3))\n",
        "plt.hist(x=df[\"ventas_totales_canal_venta\"], color='blue', rwidth=0.50)\n",
        "plt.title('Histograma de ventas_totales_canal_venta')\n",
        "plt.xlabel('ventas_totales_canal_venta')\n",
        "plt.ylabel('Frecuencia')\n",
        "plt.show()"
      ]
    },
    {
      "cell_type": "code",
      "execution_count": null,
      "metadata": {
        "colab": {
          "base_uri": "https://localhost:8080/",
          "height": 314
        },
        "id": "FW1RZZEE4XYO",
        "outputId": "75b58043-eb93-4ca2-de74-ec58c1c5da3e"
      },
      "outputs": [],
      "source": [
        "fig = plt.figure(figsize =(5, 3))\n",
        "plt.boxplot(df[\"ventas_totales_canal_venta\"]) \n",
        "plt.title(\"Outliers de ventas_totales_canal_venta\")\n",
        "plt.show()"
      ]
    },
    {
      "cell_type": "markdown",
      "metadata": {
        "id": "j68Ujz5l4jfL"
      },
      "source": [
        "ventas_totales_canal_venta no tiene outliers "
      ]
    },
    {
      "cell_type": "markdown",
      "metadata": {
        "id": "6a33s2bc2ed4"
      },
      "source": [
        "#**salon_ventas**"
      ]
    },
    {
      "cell_type": "code",
      "execution_count": null,
      "metadata": {
        "colab": {
          "base_uri": "https://localhost:8080/",
          "height": 333
        },
        "id": "bF3bQCwlyKIi",
        "outputId": "4299c090-8f96-433f-cbb1-18cd5c72b01e"
      },
      "outputs": [],
      "source": [
        "fig = plt.figure(figsize =(5, 3))\n",
        "plt.hist(x=df[\"salon_ventas\"], color='blue', rwidth=0.50)\n",
        "plt.title('Histograma de salon ventas')\n",
        "plt.xlabel('Salon Ventas')\n",
        "plt.ylabel('Frecuencia')\n",
        "plt.show()"
      ]
    },
    {
      "cell_type": "code",
      "execution_count": null,
      "metadata": {
        "colab": {
          "base_uri": "https://localhost:8080/",
          "height": 314
        },
        "id": "CjBqYqGwyPgS",
        "outputId": "6a2a30d1-c416-4be1-85d0-2a8f6836c642"
      },
      "outputs": [],
      "source": [
        "fig = plt.figure(figsize =(5, 3))\n",
        "plt.boxplot(df[\"salon_ventas\"]) \n",
        "plt.title(\"Outliers de Salon Venta\")\n",
        "plt.show()"
      ]
    },
    {
      "cell_type": "code",
      "execution_count": null,
      "metadata": {
        "colab": {
          "base_uri": "https://localhost:8080/"
        },
        "id": "SALy9a86ICZQ",
        "outputId": "89081c3c-7e4a-4ae8-bcf3-53e06229e2ce"
      },
      "outputs": [],
      "source": [
        "#Método aplicando Cuartiles. Encuentro cuartiles 0.25 y 0.75\n",
        "y=df[\"salon_ventas\"]\n",
        "\n",
        "percentile25=y.quantile(0.25) #Q1\n",
        "percentile75=y.quantile(0.75) #Q3\n",
        "iqr= percentile75 - percentile25\n",
        "\n",
        "Limite_Superior_iqr= percentile75 + 1.5*iqr\n",
        "Limite_Inferior_iqr= percentile25 - 1.5*iqr\n",
        "print(\"Limite superior permitido\", Limite_Superior_iqr)\n",
        "print(\"Limite inferior permitido\", Limite_Inferior_iqr)"
      ]
    },
    {
      "cell_type": "code",
      "execution_count": null,
      "metadata": {
        "colab": {
          "base_uri": "https://localhost:8080/",
          "height": 237
        },
        "id": "GSIsCcybIEsI",
        "outputId": "042a028d-8c50-4073-d9a8-a51342b6c46e"
      },
      "outputs": [],
      "source": [
        "#Encontramos Ouliers\n",
        "outliers_iqr= df[(y>Limite_Superior_iqr)|(y<Limite_Inferior_iqr)]\n",
        "outliers_iqr"
      ]
    },
    {
      "cell_type": "code",
      "execution_count": null,
      "metadata": {
        "colab": {
          "base_uri": "https://localhost:8080/",
          "height": 487
        },
        "id": "lADMGq2xIHBU",
        "outputId": "c6b717a9-ec35-43e3-8b48-0624989d00ac"
      },
      "outputs": [],
      "source": [
        "#Obtenemos datos limpios\n",
        "data_clean_iqr= df[(y<=Limite_Superior_iqr)&(y>=Limite_Inferior_iqr)]\n",
        "data_clean_iqr"
      ]
    },
    {
      "cell_type": "code",
      "execution_count": null,
      "metadata": {
        "colab": {
          "base_uri": "https://localhost:8080/",
          "height": 314
        },
        "id": "Vhuk4-kPIM0l",
        "outputId": "dbba0689-5042-4485-b6ac-ee08fa4fa69a"
      },
      "outputs": [],
      "source": [
        "#Realizamos diagrama de caja o bigote\n",
        "fig = plt.figure(figsize =(5, 3))\n",
        "plt.boxplot(data_clean_iqr[\"salon_ventas\"]) \n",
        "plt.title(\"Outliers de salon_ventas\")\n",
        "plt.show() #dibujamos el diagrama"
      ]
    },
    {
      "cell_type": "code",
      "execution_count": null,
      "metadata": {
        "colab": {
          "base_uri": "https://localhost:8080/",
          "height": 17
        },
        "id": "H5ySkNns5R8S",
        "outputId": "09917dc7-f377-4047-a808-af06bd999c70"
      },
      "outputs": [],
      "source": [
        "data_clean_iqr[\"salon_ventas\"].to_csv('salon_ventas.csv')\n",
        "files.download('salon_ventas.csv')"
      ]
    },
    {
      "cell_type": "markdown",
      "metadata": {
        "id": "BQ2aeWMA5eVy"
      },
      "source": [
        "#**canales_on_line**"
      ]
    },
    {
      "cell_type": "code",
      "execution_count": null,
      "metadata": {
        "colab": {
          "base_uri": "https://localhost:8080/",
          "height": 333
        },
        "id": "3-_gOIMp5kiy",
        "outputId": "7645a369-b772-4b98-c8dc-e5738d62543e"
      },
      "outputs": [],
      "source": [
        "fig = plt.figure(figsize =(5, 3))\n",
        "plt.hist(x=df[\"canales_on_line\"], color='blue', rwidth=0.50)\n",
        "plt.title('Histograma de canales_on_line')\n",
        "plt.xlabel('canales_on_line')\n",
        "plt.ylabel('Frecuencia')\n",
        "plt.show()"
      ]
    },
    {
      "cell_type": "code",
      "execution_count": null,
      "metadata": {
        "colab": {
          "base_uri": "https://localhost:8080/",
          "height": 314
        },
        "id": "i1RQnAKN5kiy",
        "outputId": "d967be1c-fbe9-4516-e331-25ed42aaa299"
      },
      "outputs": [],
      "source": [
        "fig = plt.figure(figsize =(5, 3))\n",
        "plt.boxplot(df[\"canales_on_line\"]) \n",
        "plt.title(\"Outliers de canales_on_line\")\n",
        "plt.show()"
      ]
    },
    {
      "cell_type": "markdown",
      "metadata": {
        "id": "vzzCsoqp5rE9"
      },
      "source": [
        "canales_on_line no tiene outliers"
      ]
    },
    {
      "cell_type": "markdown",
      "metadata": {
        "id": "K2i_GUqT5uxH"
      },
      "source": [
        "#**ventas_totales_medio_pago**"
      ]
    },
    {
      "cell_type": "code",
      "execution_count": null,
      "metadata": {
        "colab": {
          "base_uri": "https://localhost:8080/",
          "height": 333
        },
        "id": "WHhUtDjA5zGi",
        "outputId": "4d89fcb8-314f-4cc7-cbc2-fe9e31bbed35"
      },
      "outputs": [],
      "source": [
        "fig = plt.figure(figsize =(5, 3))\n",
        "plt.hist(x=df[\"ventas_totales_medio_pago\"], color='blue', rwidth=0.50)\n",
        "plt.title('Histograma de ventas_totales_medio_pago')\n",
        "plt.xlabel('ventas_totales_medio_pago')\n",
        "plt.ylabel('Frecuencia')\n",
        "plt.show()"
      ]
    },
    {
      "cell_type": "code",
      "execution_count": null,
      "metadata": {
        "colab": {
          "base_uri": "https://localhost:8080/",
          "height": 314
        },
        "id": "4vnwV1le5zGj",
        "outputId": "17a11edb-2748-4f08-8a76-b82fe03067bb"
      },
      "outputs": [],
      "source": [
        "fig = plt.figure(figsize =(5, 3))\n",
        "plt.boxplot(df[\"ventas_totales_medio_pago\"]) \n",
        "plt.title(\"Outliers de ventas_totales_medio_pago\")\n",
        "plt.show()"
      ]
    },
    {
      "cell_type": "markdown",
      "metadata": {
        "id": "s9as6C5J57hi"
      },
      "source": [
        "ventas_totales_medio_pago no tiene oultiers"
      ]
    },
    {
      "cell_type": "markdown",
      "metadata": {
        "id": "dOp_b2PC59F9"
      },
      "source": [
        "#**efectivo**"
      ]
    },
    {
      "cell_type": "code",
      "execution_count": null,
      "metadata": {
        "colab": {
          "base_uri": "https://localhost:8080/",
          "height": 333
        },
        "id": "UrsIjHuE6EEj",
        "outputId": "980a1e7d-6b3d-404a-98c5-bcb71ed3c0df"
      },
      "outputs": [],
      "source": [
        "fig = plt.figure(figsize =(5, 3))\n",
        "plt.hist(x=df[\"efectivo\"], color='blue', rwidth=0.50)\n",
        "plt.title('Histograma de efectivo')\n",
        "plt.xlabel('efectivo')\n",
        "plt.ylabel('Frecuencia')\n",
        "plt.show()"
      ]
    },
    {
      "cell_type": "code",
      "execution_count": null,
      "metadata": {
        "colab": {
          "base_uri": "https://localhost:8080/",
          "height": 314
        },
        "id": "o2cJ67Xf6EEk",
        "outputId": "c4b24542-9885-4116-9a1a-206a5a0492f4"
      },
      "outputs": [],
      "source": [
        "fig = plt.figure(figsize =(5, 3))\n",
        "plt.boxplot(df[\"efectivo\"]) \n",
        "plt.title(\"Outliers de efectivo\")\n",
        "plt.show()"
      ]
    },
    {
      "cell_type": "markdown",
      "metadata": {
        "id": "XU5ZOLko6JoZ"
      },
      "source": [
        "efectivo no tiene outliers"
      ]
    },
    {
      "cell_type": "markdown",
      "metadata": {
        "id": "d3GbENN56LbG"
      },
      "source": [
        "#**tarjetas_debito**"
      ]
    },
    {
      "cell_type": "code",
      "execution_count": null,
      "metadata": {
        "colab": {
          "base_uri": "https://localhost:8080/",
          "height": 333
        },
        "id": "QN54mJ6J6O6N",
        "outputId": "306e793c-2c89-4629-f795-c1480a9fdaa5"
      },
      "outputs": [],
      "source": [
        "fig = plt.figure(figsize =(5, 3))\n",
        "plt.hist(x=df[\"tarjetas_debito\"], color='blue', rwidth=0.50)\n",
        "plt.title('Histograma de tarjetas_debito')\n",
        "plt.xlabel('tarjetas_debito')\n",
        "plt.ylabel('Frecuencia')\n",
        "plt.show()"
      ]
    },
    {
      "cell_type": "code",
      "execution_count": null,
      "metadata": {
        "colab": {
          "base_uri": "https://localhost:8080/",
          "height": 314
        },
        "id": "160DyfX86O6O",
        "outputId": "54a7a6ee-0065-4496-bbc6-485e42ac0890"
      },
      "outputs": [],
      "source": [
        "fig = plt.figure(figsize =(5, 3))\n",
        "plt.boxplot(df[\"tarjetas_debito\"]) \n",
        "plt.title(\"Outliers de tarjetas_debito\")\n",
        "plt.show()"
      ]
    },
    {
      "cell_type": "code",
      "execution_count": null,
      "metadata": {
        "colab": {
          "base_uri": "https://localhost:8080/"
        },
        "id": "S5VhFj4f5UtC",
        "outputId": "295e668e-fd3e-47e5-8ae7-1c5619c0c53f"
      },
      "outputs": [],
      "source": [
        "#Método aplicando desviación estandar. Encuentro los valores extremos\n",
        "y=df[\"tarjetas_debito\"]\n",
        "Limite_Superior= y.mean() + 3*y.std()\n",
        "Limite_Inferior= y.mean() - 3*y.std()\n",
        "print(\"Limite superior permitido\", Limite_Superior)\n",
        "print(\"Limite inferior permitido\", Limite_Inferior)"
      ]
    },
    {
      "cell_type": "code",
      "execution_count": null,
      "metadata": {
        "colab": {
          "base_uri": "https://localhost:8080/",
          "height": 143
        },
        "id": "zUm71zxRHLKb",
        "outputId": "4f224496-408a-4217-8c2b-9c7ddca7b395"
      },
      "outputs": [],
      "source": [
        "#Encontramos Ouliers\n",
        "outliers= df[(y>Limite_Superior)|(y<Limite_Inferior)]\n",
        "outliers\n"
      ]
    },
    {
      "cell_type": "markdown",
      "metadata": {
        "id": "AcPKwz327_cL"
      },
      "source": [
        "A pesar de que en la gráfica se ven outliers el método muestra que no hay outliers"
      ]
    },
    {
      "cell_type": "markdown",
      "metadata": {
        "id": "G3EiIRqR8FJF"
      },
      "source": [
        "#**tarjetas_credito**"
      ]
    },
    {
      "cell_type": "code",
      "execution_count": null,
      "metadata": {
        "colab": {
          "base_uri": "https://localhost:8080/",
          "height": 333
        },
        "id": "ynYDF0Xo8Xz5",
        "outputId": "e36c47e1-257f-4283-d979-2a45e26a21ac"
      },
      "outputs": [],
      "source": [
        "fig = plt.figure(figsize =(5, 3))\n",
        "plt.hist(x=df[\"tarjetas_credito\"], color='blue', rwidth=0.50)\n",
        "plt.title('Histograma de tarjetas_credito')\n",
        "plt.xlabel('tarjetas_credito')\n",
        "plt.ylabel('Frecuencia')\n",
        "plt.show()"
      ]
    },
    {
      "cell_type": "code",
      "execution_count": null,
      "metadata": {
        "colab": {
          "base_uri": "https://localhost:8080/",
          "height": 314
        },
        "id": "Y_U-Tc418Xz7",
        "outputId": "ae41c668-7737-4393-85c0-1ea09ffb216d"
      },
      "outputs": [],
      "source": [
        "fig = plt.figure(figsize =(5, 3))\n",
        "plt.boxplot(df[\"tarjetas_credito\"]) \n",
        "plt.title(\"Outliers de tarjetas_credito\")\n",
        "plt.show()"
      ]
    },
    {
      "cell_type": "code",
      "execution_count": null,
      "metadata": {
        "colab": {
          "base_uri": "https://localhost:8080/"
        },
        "id": "R7wxMG3d8fbC",
        "outputId": "61a48539-1a67-498c-b7c8-a785dc4739b8"
      },
      "outputs": [],
      "source": [
        "#Método aplicando desviación estandar. Encuentro los valores extremos\n",
        "y=df[\"tarjetas_credito\"]\n",
        "Limite_Superior= y.mean() + 3*y.std()\n",
        "Limite_Inferior= y.mean() - 3*y.std()\n",
        "print(\"Limite superior permitido\", Limite_Superior)\n",
        "print(\"Limite inferior permitido\", Limite_Inferior)"
      ]
    },
    {
      "cell_type": "code",
      "execution_count": null,
      "metadata": {
        "colab": {
          "base_uri": "https://localhost:8080/",
          "height": 143
        },
        "id": "c8d_BCsi8fbD",
        "outputId": "2bdc2afd-e79e-4c49-8476-4a733dbfaec3"
      },
      "outputs": [],
      "source": [
        "#Encontramos Ouliers\n",
        "outliers= df[(y>Limite_Superior)|(y<Limite_Inferior)]\n",
        "outliers\n"
      ]
    },
    {
      "cell_type": "markdown",
      "metadata": {
        "id": "I3lArOtG8of9"
      },
      "source": [
        "A pesar de que en la gráfica se ven outliers el método muestra que no hay outliers"
      ]
    },
    {
      "cell_type": "markdown",
      "metadata": {
        "id": "YTLptpcO8k4Z"
      },
      "source": [
        "#**otros_medios**"
      ]
    },
    {
      "cell_type": "code",
      "execution_count": null,
      "metadata": {
        "colab": {
          "base_uri": "https://localhost:8080/",
          "height": 333
        },
        "id": "ijY4Xjtq8vUH",
        "outputId": "e667e3ef-5fb1-4c98-c50a-166871a9399f"
      },
      "outputs": [],
      "source": [
        "fig = plt.figure(figsize =(5, 3))\n",
        "plt.hist(x=df[\"otros_medios\"], color='blue', rwidth=0.50)\n",
        "plt.title('Histograma de otros_medios')\n",
        "plt.xlabel('otros_medios')\n",
        "plt.ylabel('Frecuencia')\n",
        "plt.show()"
      ]
    },
    {
      "cell_type": "code",
      "execution_count": null,
      "metadata": {
        "colab": {
          "base_uri": "https://localhost:8080/",
          "height": 314
        },
        "id": "yeaRR66K8vUH",
        "outputId": "6a34a4a2-7159-4b28-b96a-df2d2597eb19"
      },
      "outputs": [],
      "source": [
        "fig = plt.figure(figsize =(5, 3))\n",
        "plt.boxplot(df[\"otros_medios\"]) \n",
        "plt.title(\"Outliers de otros_medios\")\n",
        "plt.show()"
      ]
    },
    {
      "cell_type": "markdown",
      "metadata": {
        "id": "vVnx20_a80Ro"
      },
      "source": [
        "otros_medios no tiene outliers"
      ]
    },
    {
      "cell_type": "markdown",
      "metadata": {
        "id": "a6nm9goD81oZ"
      },
      "source": [
        "#**ventas_totales_grupo_articulos**"
      ]
    },
    {
      "cell_type": "code",
      "execution_count": null,
      "metadata": {
        "colab": {
          "base_uri": "https://localhost:8080/",
          "height": 333
        },
        "id": "ihyVy82F86_m",
        "outputId": "600f7465-3beb-4d87-818d-11ee124a3e0e"
      },
      "outputs": [],
      "source": [
        "fig = plt.figure(figsize =(5, 3))\n",
        "plt.hist(x=df[\"ventas_totales_grupo_articulos\"], color='blue', rwidth=0.50)\n",
        "plt.title('Histograma de ventas_totales_grupo_articulos')\n",
        "plt.xlabel('ventas_totales_grupo_articulos')\n",
        "plt.ylabel('Frecuencia')\n",
        "plt.show()"
      ]
    },
    {
      "cell_type": "code",
      "execution_count": null,
      "metadata": {
        "colab": {
          "base_uri": "https://localhost:8080/",
          "height": 329
        },
        "id": "WSV0j-7d86_m",
        "outputId": "34856f99-0a62-41bd-ad01-f93795bc605b"
      },
      "outputs": [],
      "source": [
        "fig = plt.figure(figsize =(5, 3))\n",
        "plt.boxplot(df[\"ventas_totales_grupo_articulos\"]) \n",
        "plt.title(\"Outliers de ventas_totales_grupo_articulos\")\n",
        "plt.show()"
      ]
    },
    {
      "cell_type": "markdown",
      "metadata": {
        "id": "hwVEFamQ9Ayj"
      },
      "source": [
        "ventas_totales_grupo_articulos no tiene outliers"
      ]
    },
    {
      "cell_type": "markdown",
      "metadata": {
        "id": "8ruqDI3A9B9M"
      },
      "source": [
        "#**subtotal_ventas_alimentos_bebidas**"
      ]
    },
    {
      "cell_type": "code",
      "execution_count": null,
      "metadata": {
        "colab": {
          "base_uri": "https://localhost:8080/",
          "height": 333
        },
        "id": "kaCkROb79H3V",
        "outputId": "8d75e9f0-5b31-4d80-cb9b-e296bf8d3249"
      },
      "outputs": [],
      "source": [
        "fig = plt.figure(figsize =(5, 3))\n",
        "plt.hist(x=df[\"subtotal_ventas_alimentos_bebidas\"], color='blue', rwidth=0.50)\n",
        "plt.title('Histograma de subtotal_ventas_alimentos_bebidas')\n",
        "plt.xlabel('subtotal_ventas_alimentos_bebidas')\n",
        "plt.ylabel('Frecuencia')\n",
        "plt.show()"
      ]
    },
    {
      "cell_type": "code",
      "execution_count": null,
      "metadata": {
        "colab": {
          "base_uri": "https://localhost:8080/",
          "height": 329
        },
        "id": "C6JGE9i-9H3W",
        "outputId": "3ac687c6-b85c-48e2-e8fb-a3daa9ed3269"
      },
      "outputs": [],
      "source": [
        "fig = plt.figure(figsize =(5, 3))\n",
        "plt.boxplot(df[\"subtotal_ventas_alimentos_bebidas\"]) \n",
        "plt.title(\"Outliers de subtotal_ventas_alimentos_bebidas\")\n",
        "plt.show()"
      ]
    },
    {
      "cell_type": "markdown",
      "metadata": {
        "id": "wppYU-Da9MHc"
      },
      "source": [
        "subtotal_ventas_alimentos_bebidas no tiene outliers"
      ]
    },
    {
      "cell_type": "markdown",
      "metadata": {
        "id": "isH8AsvS9NRf"
      },
      "source": [
        "#**bebidas**"
      ]
    },
    {
      "cell_type": "code",
      "execution_count": null,
      "metadata": {
        "colab": {
          "base_uri": "https://localhost:8080/",
          "height": 333
        },
        "id": "cc-_eos-9RM-",
        "outputId": "d5362f23-82b4-4f7e-e923-15dfb920a9a8"
      },
      "outputs": [],
      "source": [
        "fig = plt.figure(figsize =(5, 3))\n",
        "plt.hist(x=df[\"bebidas\"], color='blue', rwidth=0.50)\n",
        "plt.title('Histograma de bebidas')\n",
        "plt.xlabel('bebidas')\n",
        "plt.ylabel('Frecuencia')\n",
        "plt.show()"
      ]
    },
    {
      "cell_type": "code",
      "execution_count": null,
      "metadata": {
        "colab": {
          "base_uri": "https://localhost:8080/",
          "height": 314
        },
        "id": "4UgT3NmY9RM-",
        "outputId": "29dbe7dc-794d-4342-9c9e-591c33e6c86a"
      },
      "outputs": [],
      "source": [
        "fig = plt.figure(figsize =(5, 3))\n",
        "plt.boxplot(df[\"bebidas\"]) \n",
        "plt.title(\"Outliers de bebidas\")\n",
        "plt.show()"
      ]
    },
    {
      "cell_type": "code",
      "execution_count": null,
      "metadata": {
        "colab": {
          "base_uri": "https://localhost:8080/"
        },
        "id": "ji8_dbm-9cnj",
        "outputId": "229edc2b-6ca2-49da-fa6a-5bcda295cf55"
      },
      "outputs": [],
      "source": [
        "#Método aplicando Cuartiles. Encuentro cuartiles 0.25 y 0.75\n",
        "y=df[\"bebidas\"]\n",
        "\n",
        "percentile25=y.quantile(0.25) #Q1\n",
        "percentile75=y.quantile(0.75) #Q3\n",
        "iqr= percentile75 - percentile25\n",
        "\n",
        "Limite_Superior_iqr= percentile75 + 1.5*iqr\n",
        "Limite_Inferior_iqr= percentile25 - 1.5*iqr\n",
        "print(\"Limite superior permitido\", Limite_Superior_iqr)\n",
        "print(\"Limite inferior permitido\", Limite_Inferior_iqr)"
      ]
    },
    {
      "cell_type": "code",
      "execution_count": null,
      "metadata": {
        "colab": {
          "base_uri": "https://localhost:8080/",
          "height": 174
        },
        "id": "6W8eURVd9cnk",
        "outputId": "c5888086-d418-4bb0-ec59-30807287438c"
      },
      "outputs": [],
      "source": [
        "#Encontramos Ouliers\n",
        "outliers_iqr= df[(y>Limite_Superior_iqr)|(y<Limite_Inferior_iqr)]\n",
        "outliers_iqr"
      ]
    },
    {
      "cell_type": "code",
      "execution_count": null,
      "metadata": {
        "colab": {
          "base_uri": "https://localhost:8080/",
          "height": 487
        },
        "id": "oehjwEem9cnk",
        "outputId": "ae71386c-9c76-468d-ffe8-d902eff0a6ea"
      },
      "outputs": [],
      "source": [
        "#Obtenemos datos limpios\n",
        "data_clean_iqr= df[(y<=Limite_Superior_iqr)&(y>=Limite_Inferior_iqr)]\n",
        "data_clean_iqr"
      ]
    },
    {
      "cell_type": "code",
      "execution_count": null,
      "metadata": {
        "colab": {
          "base_uri": "https://localhost:8080/",
          "height": 314
        },
        "id": "Sp0hpel69cnk",
        "outputId": "c33596b9-462e-47fe-9b76-aef7f2f5862e"
      },
      "outputs": [],
      "source": [
        "#Realizamos diagrama de caja o bigote\n",
        "fig = plt.figure(figsize =(5, 3))\n",
        "plt.boxplot(data_clean_iqr[\"bebidas\"]) \n",
        "plt.title(\"Outliers de bebidas\")\n",
        "plt.show() #dibujamos el diagrama"
      ]
    },
    {
      "cell_type": "code",
      "execution_count": null,
      "metadata": {
        "colab": {
          "base_uri": "https://localhost:8080/",
          "height": 17
        },
        "id": "y_MoPWc_9cnk",
        "outputId": "42a4b718-aed5-4e45-f428-7dbb764cc37c"
      },
      "outputs": [],
      "source": [
        "data_clean_iqr[\"bebidas\"].to_csv('bebidas.csv')\n",
        "files.download('bebidas.csv')"
      ]
    },
    {
      "cell_type": "markdown",
      "metadata": {
        "id": "hXIOkydK9n0r"
      },
      "source": [
        "#**almacen**"
      ]
    },
    {
      "cell_type": "code",
      "execution_count": null,
      "metadata": {
        "colab": {
          "base_uri": "https://localhost:8080/",
          "height": 333
        },
        "id": "o4wnh3l39sGz",
        "outputId": "27d2e51e-bb03-4946-b7cf-4efd35c07479"
      },
      "outputs": [],
      "source": [
        "fig = plt.figure(figsize =(5, 3))\n",
        "plt.hist(x=df[\"almacen\"], color='blue', rwidth=0.50)\n",
        "plt.title('Histograma de almacen')\n",
        "plt.xlabel('almacen')\n",
        "plt.ylabel('Frecuencia')\n",
        "plt.show()"
      ]
    },
    {
      "cell_type": "code",
      "execution_count": null,
      "metadata": {
        "colab": {
          "base_uri": "https://localhost:8080/",
          "height": 314
        },
        "id": "ELiOX_A59sG0",
        "outputId": "8ed1de8b-5d83-4892-e6fe-148682fb8a77"
      },
      "outputs": [],
      "source": [
        "fig = plt.figure(figsize =(5, 3))\n",
        "plt.boxplot(df[\"almacen\"]) \n",
        "plt.title(\"Outliers de almacen\")\n",
        "plt.show()"
      ]
    },
    {
      "cell_type": "markdown",
      "metadata": {
        "id": "xtQTtaVi9xek"
      },
      "source": [
        "almacen no tiene outliers"
      ]
    },
    {
      "cell_type": "markdown",
      "metadata": {
        "id": "0mHXdCRi9y6X"
      },
      "source": [
        "#**panaderia**"
      ]
    },
    {
      "cell_type": "code",
      "execution_count": null,
      "metadata": {
        "colab": {
          "base_uri": "https://localhost:8080/",
          "height": 333
        },
        "id": "vB1TtA9F92h3",
        "outputId": "c22a1c54-bd9b-4334-82b6-723b41a2b8a6"
      },
      "outputs": [],
      "source": [
        "fig = plt.figure(figsize =(5, 3))\n",
        "plt.hist(x=df[\"panaderia\"], color='blue', rwidth=0.50)\n",
        "plt.title('Histograma de panaderia')\n",
        "plt.xlabel('panaderia')\n",
        "plt.ylabel('Frecuencia')\n",
        "plt.show()"
      ]
    },
    {
      "cell_type": "code",
      "execution_count": null,
      "metadata": {
        "colab": {
          "base_uri": "https://localhost:8080/",
          "height": 314
        },
        "id": "-eD_dnuF92h3",
        "outputId": "c4e7b91a-a2eb-45ef-c859-991e4a6d2e6e"
      },
      "outputs": [],
      "source": [
        "fig = plt.figure(figsize =(5, 3))\n",
        "plt.boxplot(df[\"panaderia\"]) \n",
        "plt.title(\"Outliers de panaderia\")\n",
        "plt.show()"
      ]
    },
    {
      "cell_type": "code",
      "execution_count": null,
      "metadata": {
        "colab": {
          "base_uri": "https://localhost:8080/"
        },
        "id": "NAYnVFvu9-yD",
        "outputId": "94e9067b-c664-4687-f665-dd532417a0f6"
      },
      "outputs": [],
      "source": [
        "#Método aplicando Cuartiles. Encuentro cuartiles 0.25 y 0.75\n",
        "y=df[\"panaderia\"]\n",
        "\n",
        "percentile25=y.quantile(0.25) #Q1\n",
        "percentile75=y.quantile(0.75) #Q3\n",
        "iqr= percentile75 - percentile25\n",
        "\n",
        "Limite_Superior_iqr= percentile75 + 1.5*iqr\n",
        "Limite_Inferior_iqr= percentile25 - 1.5*iqr\n",
        "print(\"Limite superior permitido\", Limite_Superior_iqr)\n",
        "print(\"Limite inferior permitido\", Limite_Inferior_iqr)"
      ]
    },
    {
      "cell_type": "code",
      "execution_count": null,
      "metadata": {
        "colab": {
          "base_uri": "https://localhost:8080/",
          "height": 268
        },
        "id": "3tv66ZE99-yE",
        "outputId": "4349f346-b8d3-433f-9985-09e8e4d96502"
      },
      "outputs": [],
      "source": [
        "#Encontramos Ouliers\n",
        "outliers_iqr= df[(y>Limite_Superior_iqr)|(y<Limite_Inferior_iqr)]\n",
        "outliers_iqr"
      ]
    },
    {
      "cell_type": "code",
      "execution_count": null,
      "metadata": {
        "colab": {
          "base_uri": "https://localhost:8080/",
          "height": 487
        },
        "id": "twUfAR8r9-yE",
        "outputId": "e035cec7-02e3-45d4-c4ca-da7d75d0012e"
      },
      "outputs": [],
      "source": [
        "#Obtenemos datos limpios\n",
        "data_clean_iqr= df[(y<=Limite_Superior_iqr)&(y>=Limite_Inferior_iqr)]\n",
        "data_clean_iqr"
      ]
    },
    {
      "cell_type": "code",
      "execution_count": null,
      "metadata": {
        "colab": {
          "base_uri": "https://localhost:8080/",
          "height": 314
        },
        "id": "qlmwbMXA9-yE",
        "outputId": "3ab1e071-cc9b-412f-f48b-0b0ca4a8558e"
      },
      "outputs": [],
      "source": [
        "#Realizamos diagrama de caja o bigote\n",
        "fig = plt.figure(figsize =(5, 3))\n",
        "plt.boxplot(data_clean_iqr[\"panaderia\"]) \n",
        "plt.title(\"Outliers de panaderia\")\n",
        "plt.show() #dibujamos el diagrama"
      ]
    },
    {
      "cell_type": "code",
      "execution_count": null,
      "metadata": {
        "colab": {
          "base_uri": "https://localhost:8080/",
          "height": 17
        },
        "id": "iki89BJO9-yF",
        "outputId": "99fbbe39-4c96-4748-ed20-1fe629399d69"
      },
      "outputs": [],
      "source": [
        "data_clean_iqr[\"panaderia\"].to_csv('panaderia.csv')\n",
        "files.download('panaderia.csv')"
      ]
    },
    {
      "cell_type": "markdown",
      "metadata": {
        "id": "0ehuMxJw-J6x"
      },
      "source": [
        "#**lacteos**"
      ]
    },
    {
      "cell_type": "code",
      "execution_count": null,
      "metadata": {
        "colab": {
          "base_uri": "https://localhost:8080/",
          "height": 333
        },
        "id": "DqO9IjUn-J6x",
        "outputId": "c22d69b4-4d3b-47bf-f8fe-1f8e2300d154"
      },
      "outputs": [],
      "source": [
        "fig = plt.figure(figsize =(5, 3))\n",
        "plt.hist(x=df[\"lacteos\"], color='blue', rwidth=0.50)\n",
        "plt.title('Histograma de lacteos')\n",
        "plt.xlabel('lacteos')\n",
        "plt.ylabel('Frecuencia')\n",
        "plt.show()"
      ]
    },
    {
      "cell_type": "code",
      "execution_count": null,
      "metadata": {
        "colab": {
          "base_uri": "https://localhost:8080/",
          "height": 314
        },
        "id": "9xy1xUGg-J6y",
        "outputId": "eb4e9527-2d4f-49aa-bcbe-945315767f1e"
      },
      "outputs": [],
      "source": [
        "fig = plt.figure(figsize =(5, 3))\n",
        "plt.boxplot(df[\"lacteos\"]) \n",
        "plt.title(\"Outliers de lacteos\")\n",
        "plt.show()"
      ]
    },
    {
      "cell_type": "markdown",
      "metadata": {
        "id": "t9qpaGmX-JF1"
      },
      "source": [
        "lacteos no tiene outliers"
      ]
    },
    {
      "cell_type": "markdown",
      "metadata": {
        "id": "BHIK37LS-S_e"
      },
      "source": [
        "#**carnes**"
      ]
    },
    {
      "cell_type": "code",
      "execution_count": null,
      "metadata": {
        "colab": {
          "base_uri": "https://localhost:8080/",
          "height": 333
        },
        "id": "B_mYhCsn-S_e",
        "outputId": "8c76e292-92df-48ac-9fe1-a27ed4e02570"
      },
      "outputs": [],
      "source": [
        "fig = plt.figure(figsize =(5, 3))\n",
        "plt.hist(x=df[\"carnes\"], color='blue', rwidth=0.50)\n",
        "plt.title('Histograma de carnes')\n",
        "plt.xlabel('carnes')\n",
        "plt.ylabel('Frecuencia')\n",
        "plt.show()"
      ]
    },
    {
      "cell_type": "code",
      "execution_count": null,
      "metadata": {
        "colab": {
          "base_uri": "https://localhost:8080/",
          "height": 314
        },
        "id": "s-NBZ_UO-S_f",
        "outputId": "88ccc362-6f68-42fc-8c8b-d3b42c90bf1e"
      },
      "outputs": [],
      "source": [
        "fig = plt.figure(figsize =(5, 3))\n",
        "plt.boxplot(df[\"carnes\"]) \n",
        "plt.title(\"Outliers de carnes\")\n",
        "plt.show()"
      ]
    },
    {
      "cell_type": "markdown",
      "metadata": {
        "id": "PoRQ5afG-Y9X"
      },
      "source": [
        "carnes no tiene outliers"
      ]
    },
    {
      "cell_type": "markdown",
      "metadata": {
        "id": "Q3H3ikAt-ick"
      },
      "source": [
        "#**verduleria_fruteria**"
      ]
    },
    {
      "cell_type": "code",
      "execution_count": null,
      "metadata": {
        "colab": {
          "base_uri": "https://localhost:8080/",
          "height": 333
        },
        "id": "HOjZja6C-icl",
        "outputId": "d2c44098-bf06-4bdd-d66a-75a3f8c91c07"
      },
      "outputs": [],
      "source": [
        "fig = plt.figure(figsize =(5, 3))\n",
        "plt.hist(x=df[\"verduleria_fruteria\"], color='blue', rwidth=0.50)\n",
        "plt.title('Histograma de verduleria_fruteria')\n",
        "plt.xlabel('verduleria_fruteria')\n",
        "plt.ylabel('Frecuencia')\n",
        "plt.show()"
      ]
    },
    {
      "cell_type": "code",
      "execution_count": null,
      "metadata": {
        "colab": {
          "base_uri": "https://localhost:8080/",
          "height": 314
        },
        "id": "cucQugYY-icm",
        "outputId": "76ac3401-fc1d-4574-c815-692cc32f156b"
      },
      "outputs": [],
      "source": [
        "fig = plt.figure(figsize =(5, 3))\n",
        "plt.boxplot(df[\"verduleria_fruteria\"]) \n",
        "plt.title(\"Outliers de verduleria_fruteria\")\n",
        "plt.show()"
      ]
    },
    {
      "cell_type": "markdown",
      "metadata": {
        "id": "2LhL5cVD-pGa"
      },
      "source": [
        "verduleria_fruteria no tiene outliers"
      ]
    },
    {
      "cell_type": "markdown",
      "metadata": {
        "id": "QNbtR_n--rUc"
      },
      "source": [
        "#**alimentos_preparados_rotiseria**"
      ]
    },
    {
      "cell_type": "code",
      "execution_count": null,
      "metadata": {
        "colab": {
          "base_uri": "https://localhost:8080/",
          "height": 333
        },
        "id": "MYhjJJhq-rUd",
        "outputId": "63eff7e8-06d0-4479-90a7-38d41745ccec"
      },
      "outputs": [],
      "source": [
        "fig = plt.figure(figsize =(5, 3))\n",
        "plt.hist(x=df[\"alimentos_preparados_rotiseria\"], color='blue', rwidth=0.50)\n",
        "plt.title('Histograma de alimentos_preparados_rotiseria')\n",
        "plt.xlabel('alimentos_preparados_rotiseria')\n",
        "plt.ylabel('Frecuencia')\n",
        "plt.show()"
      ]
    },
    {
      "cell_type": "code",
      "execution_count": null,
      "metadata": {
        "colab": {
          "base_uri": "https://localhost:8080/",
          "height": 329
        },
        "id": "IWkP13uc-rUd",
        "outputId": "eb1311f8-bbe6-4018-be9c-038567488f40"
      },
      "outputs": [],
      "source": [
        "fig = plt.figure(figsize =(5, 3))\n",
        "plt.boxplot(df[\"alimentos_preparados_rotiseria\"]) \n",
        "plt.title(\"Outliers de alimentos_preparados_rotiseria\")\n",
        "plt.show()"
      ]
    },
    {
      "cell_type": "code",
      "execution_count": null,
      "metadata": {
        "colab": {
          "base_uri": "https://localhost:8080/"
        },
        "id": "SCE-7A1a-4Yr",
        "outputId": "c4d53216-786d-4829-d967-23b193afd5b7"
      },
      "outputs": [],
      "source": [
        "#Método aplicando Cuartiles. Encuentro cuartiles 0.25 y 0.75\n",
        "y=df[\"alimentos_preparados_rotiseria\"]\n",
        "\n",
        "percentile25=y.quantile(0.25) #Q1\n",
        "percentile75=y.quantile(0.75) #Q3\n",
        "iqr= percentile75 - percentile25\n",
        "\n",
        "Limite_Superior_iqr= percentile75 + 1.5*iqr\n",
        "Limite_Inferior_iqr= percentile25 - 1.5*iqr\n",
        "print(\"Limite superior permitido\", Limite_Superior_iqr)\n",
        "print(\"Limite inferior permitido\", Limite_Inferior_iqr)"
      ]
    },
    {
      "cell_type": "code",
      "execution_count": null,
      "metadata": {
        "colab": {
          "base_uri": "https://localhost:8080/",
          "height": 268
        },
        "id": "bAsWCGgC-4Yr",
        "outputId": "25639cf3-d372-4b72-b08e-8e3bba722288"
      },
      "outputs": [],
      "source": [
        "#Encontramos Ouliers\n",
        "outliers_iqr= df[(y>Limite_Superior_iqr)|(y<Limite_Inferior_iqr)]\n",
        "outliers_iqr"
      ]
    },
    {
      "cell_type": "code",
      "execution_count": null,
      "metadata": {
        "colab": {
          "base_uri": "https://localhost:8080/",
          "height": 487
        },
        "id": "i-3D6PcD-4Ys",
        "outputId": "81214272-4558-4b7b-a14f-5f97b27e2cc6"
      },
      "outputs": [],
      "source": [
        "#Obtenemos datos limpios\n",
        "data_clean_iqr= df[(y<=Limite_Superior_iqr)&(y>=Limite_Inferior_iqr)]\n",
        "data_clean_iqr"
      ]
    },
    {
      "cell_type": "code",
      "execution_count": null,
      "metadata": {
        "colab": {
          "base_uri": "https://localhost:8080/",
          "height": 329
        },
        "id": "Hb_2bF6L-4Ys",
        "outputId": "d1092e68-e6f9-4c3f-d7a8-2b2a51bbcc67"
      },
      "outputs": [],
      "source": [
        "#Realizamos diagrama de caja o bigote\n",
        "fig = plt.figure(figsize =(5, 3))\n",
        "plt.boxplot(data_clean_iqr[\"alimentos_preparados_rotiseria\"]) \n",
        "plt.title(\"Outliers de alimentos_preparados_rotiseria\")\n",
        "plt.show() #dibujamos el diagrama"
      ]
    },
    {
      "cell_type": "code",
      "execution_count": null,
      "metadata": {
        "colab": {
          "base_uri": "https://localhost:8080/",
          "height": 17
        },
        "id": "FEnC_UF--4Ys",
        "outputId": "f362cfed-5f8b-4dd7-933d-877bfe5a6bcd"
      },
      "outputs": [],
      "source": [
        "data_clean_iqr[\"alimentos_preparados_rotiseria\"].to_csv('alimentos_preparados_rotiseria.csv')\n",
        "files.download('alimentos_preparados_rotiseria.csv')"
      ]
    },
    {
      "cell_type": "markdown",
      "metadata": {
        "id": "lzOjp0_0_EKG"
      },
      "source": [
        "#**articulos_limpieza_perfumeria**"
      ]
    },
    {
      "cell_type": "code",
      "execution_count": null,
      "metadata": {
        "colab": {
          "base_uri": "https://localhost:8080/",
          "height": 333
        },
        "id": "fuSMN7py_EKG",
        "outputId": "6f402031-5d13-41c4-c078-37f59be2a679"
      },
      "outputs": [],
      "source": [
        "fig = plt.figure(figsize =(5, 3))\n",
        "plt.hist(x=df[\"articulos_limpieza_perfumeria\"], color='blue', rwidth=0.50)\n",
        "plt.title('Histograma de articulos_limpieza_perfumeria')\n",
        "plt.xlabel('articulos_limpieza_perfumeria')\n",
        "plt.ylabel('Frecuencia')\n",
        "plt.show()"
      ]
    },
    {
      "cell_type": "code",
      "execution_count": null,
      "metadata": {
        "colab": {
          "base_uri": "https://localhost:8080/",
          "height": 329
        },
        "id": "MhfUfyRD_EKG",
        "outputId": "2bcb669c-1e31-43c7-db11-6f874ae4e56e"
      },
      "outputs": [],
      "source": [
        "fig = plt.figure(figsize =(5, 3))\n",
        "plt.boxplot(df[\"articulos_limpieza_perfumeria\"]) \n",
        "plt.title(\"Outliers de articulos_limpieza_perfumeria\")\n",
        "plt.show()"
      ]
    },
    {
      "cell_type": "markdown",
      "metadata": {
        "id": "YshrFJ1f_MON"
      },
      "source": [
        "articulos_limpieza_perfumeria no tiene outliers"
      ]
    },
    {
      "cell_type": "markdown",
      "metadata": {
        "id": "CE_nLpnd_Olk"
      },
      "source": [
        "#**indumentaria_calzado_textiles_hogar**"
      ]
    },
    {
      "cell_type": "code",
      "execution_count": null,
      "metadata": {
        "colab": {
          "base_uri": "https://localhost:8080/",
          "height": 333
        },
        "id": "8BRuHUhu_Olk",
        "outputId": "a3738eff-52c2-46ab-fc3e-974c9c98acf2"
      },
      "outputs": [],
      "source": [
        "fig = plt.figure(figsize =(5, 3))\n",
        "plt.hist(x=df[\"indumentaria_calzado_textiles_hogar\"], color='blue', rwidth=0.50)\n",
        "plt.title('Histograma de indumentaria_calzado_textiles_hogar')\n",
        "plt.xlabel('indumentaria_calzado_textiles_hogar')\n",
        "plt.ylabel('Frecuencia')\n",
        "plt.show()"
      ]
    },
    {
      "cell_type": "code",
      "execution_count": null,
      "metadata": {
        "colab": {
          "base_uri": "https://localhost:8080/",
          "height": 329
        },
        "id": "aNdLLd93_Olk",
        "outputId": "405f7e1d-ab93-4ee0-8691-d804f9af054d"
      },
      "outputs": [],
      "source": [
        "fig = plt.figure(figsize =(5, 3))\n",
        "plt.boxplot(df[\"indumentaria_calzado_textiles_hogar\"]) \n",
        "plt.title(\"Outliers de indumentaria_calzado_textiles_hogar\")\n",
        "plt.show()"
      ]
    },
    {
      "cell_type": "code",
      "execution_count": null,
      "metadata": {
        "colab": {
          "base_uri": "https://localhost:8080/"
        },
        "id": "6qYkXpFl_XjB",
        "outputId": "f7d288a6-cd0a-4cea-e1ea-8d843022597f"
      },
      "outputs": [],
      "source": [
        "#Método aplicando Cuartiles. Encuentro cuartiles 0.25 y 0.75\n",
        "y=df[\"indumentaria_calzado_textiles_hogar\"]\n",
        "\n",
        "percentile25=y.quantile(0.25) #Q1\n",
        "percentile75=y.quantile(0.75) #Q3\n",
        "iqr= percentile75 - percentile25\n",
        "\n",
        "Limite_Superior_iqr= percentile75 + 1.5*iqr\n",
        "Limite_Inferior_iqr= percentile25 - 1.5*iqr\n",
        "print(\"Limite superior permitido\", Limite_Superior_iqr)\n",
        "print(\"Limite inferior permitido\", Limite_Inferior_iqr)"
      ]
    },
    {
      "cell_type": "code",
      "execution_count": null,
      "metadata": {
        "colab": {
          "base_uri": "https://localhost:8080/",
          "height": 268
        },
        "id": "jIKGSXF5_XjC",
        "outputId": "69faf7ad-4d2c-45f9-a30f-b2304b9f0462"
      },
      "outputs": [],
      "source": [
        "#Encontramos Ouliers\n",
        "outliers_iqr= df[(y>Limite_Superior_iqr)|(y<Limite_Inferior_iqr)]\n",
        "outliers_iqr"
      ]
    },
    {
      "cell_type": "code",
      "execution_count": null,
      "metadata": {
        "colab": {
          "base_uri": "https://localhost:8080/",
          "height": 487
        },
        "id": "aTbyMPRy_XjC",
        "outputId": "69709e17-a04d-44ad-8fae-4b9758819e6b"
      },
      "outputs": [],
      "source": [
        "#Obtenemos datos limpios\n",
        "data_clean_iqr= df[(y<=Limite_Superior_iqr)&(y>=Limite_Inferior_iqr)]\n",
        "data_clean_iqr"
      ]
    },
    {
      "cell_type": "code",
      "execution_count": null,
      "metadata": {
        "colab": {
          "base_uri": "https://localhost:8080/",
          "height": 329
        },
        "id": "68sdDLoX_XjC",
        "outputId": "8c29ce91-60e8-4eb5-8c98-0975689e5c62"
      },
      "outputs": [],
      "source": [
        "#Realizamos diagrama de caja o bigote\n",
        "fig = plt.figure(figsize =(5, 3))\n",
        "plt.boxplot(data_clean_iqr[\"indumentaria_calzado_textiles_hogar\"]) \n",
        "plt.title(\"Outliers de indumentaria_calzado_textiles_hogar\")\n",
        "plt.show() #dibujamos el diagrama"
      ]
    },
    {
      "cell_type": "code",
      "execution_count": null,
      "metadata": {
        "colab": {
          "base_uri": "https://localhost:8080/",
          "height": 17
        },
        "id": "OBGeUjmz_XjD",
        "outputId": "64f4d162-8230-412e-8f05-d40606d038f6"
      },
      "outputs": [],
      "source": [
        "data_clean_iqr[\"indumentaria_calzado_textiles_hogar\"].to_csv('indumentaria_calzado_textiles_hogar.csv')\n",
        "files.download('indumentaria_calzado_textiles_hogar.csv')"
      ]
    },
    {
      "cell_type": "markdown",
      "metadata": {
        "id": "qLQusEc9_kOs"
      },
      "source": [
        "#**electronicos_articulos_hogar**"
      ]
    },
    {
      "cell_type": "code",
      "execution_count": null,
      "metadata": {
        "colab": {
          "base_uri": "https://localhost:8080/",
          "height": 333
        },
        "id": "voEmuPfC_kOt",
        "outputId": "99131531-b3cf-4614-968a-66ef421641c0"
      },
      "outputs": [],
      "source": [
        "fig = plt.figure(figsize =(5, 3))\n",
        "plt.hist(x=df[\"electronicos_articulos_hogar\"], color='blue', rwidth=0.50)\n",
        "plt.title('Histograma de electronicos_articulos_hogar')\n",
        "plt.xlabel('electronicos_articulos_hogar')\n",
        "plt.ylabel('Frecuencia')\n",
        "plt.show()"
      ]
    },
    {
      "cell_type": "code",
      "execution_count": null,
      "metadata": {
        "colab": {
          "base_uri": "https://localhost:8080/",
          "height": 314
        },
        "id": "iiVqcgYR_kOt",
        "outputId": "10b110c5-5dde-4593-a5c8-9b56f92612e3"
      },
      "outputs": [],
      "source": [
        "fig = plt.figure(figsize =(5, 3))\n",
        "plt.boxplot(df[\"electronicos_articulos_hogar\"]) \n",
        "plt.title(\"Outliers de electronicos_articulos_hogar\")\n",
        "plt.show()"
      ]
    },
    {
      "cell_type": "code",
      "execution_count": null,
      "metadata": {
        "colab": {
          "base_uri": "https://localhost:8080/"
        },
        "id": "gIY2Y5Lk_uLD",
        "outputId": "f5d1f45b-ef3e-4be8-bec0-63c7a4e2e71d"
      },
      "outputs": [],
      "source": [
        "#Método aplicando Cuartiles. Encuentro cuartiles 0.25 y 0.75\n",
        "y=df[\"electronicos_articulos_hogar\"]\n",
        "\n",
        "percentile25=y.quantile(0.25) #Q1\n",
        "percentile75=y.quantile(0.75) #Q3\n",
        "iqr= percentile75 - percentile25\n",
        "\n",
        "Limite_Superior_iqr= percentile75 + 1.5*iqr\n",
        "Limite_Inferior_iqr= percentile25 - 1.5*iqr\n",
        "print(\"Limite superior permitido\", Limite_Superior_iqr)\n",
        "print(\"Limite inferior permitido\", Limite_Inferior_iqr)"
      ]
    },
    {
      "cell_type": "code",
      "execution_count": null,
      "metadata": {
        "colab": {
          "base_uri": "https://localhost:8080/",
          "height": 268
        },
        "id": "E8W1DFWy_uLE",
        "outputId": "bd0fb885-4e5d-4eed-e223-de983e61e3d1"
      },
      "outputs": [],
      "source": [
        "#Encontramos Ouliers\n",
        "outliers_iqr= df[(y>Limite_Superior_iqr)|(y<Limite_Inferior_iqr)]\n",
        "outliers_iqr"
      ]
    },
    {
      "cell_type": "code",
      "execution_count": null,
      "metadata": {
        "colab": {
          "base_uri": "https://localhost:8080/",
          "height": 487
        },
        "id": "xxt0UcPc_uLE",
        "outputId": "30690e43-cd3f-4141-949b-75030a3046cf"
      },
      "outputs": [],
      "source": [
        "#Obtenemos datos limpios\n",
        "data_clean_iqr= df[(y<=Limite_Superior_iqr)&(y>=Limite_Inferior_iqr)]\n",
        "data_clean_iqr"
      ]
    },
    {
      "cell_type": "code",
      "execution_count": null,
      "metadata": {
        "colab": {
          "base_uri": "https://localhost:8080/",
          "height": 314
        },
        "id": "EnEbv8Gp_uLE",
        "outputId": "b58bab81-6da1-4092-cb70-6eb84ff62241"
      },
      "outputs": [],
      "source": [
        "#Realizamos diagrama de caja o bigote\n",
        "fig = plt.figure(figsize =(5, 3))\n",
        "plt.boxplot(data_clean_iqr[\"electronicos_articulos_hogar\"]) \n",
        "plt.title(\"Outliers de electronicos_articulos_hogar\")\n",
        "plt.show() #dibujamos el diagrama"
      ]
    },
    {
      "cell_type": "code",
      "execution_count": null,
      "metadata": {
        "colab": {
          "base_uri": "https://localhost:8080/",
          "height": 17
        },
        "id": "ea3-t_N__uLF",
        "outputId": "055cbf3b-4d83-4367-e391-954932dcc309"
      },
      "outputs": [],
      "source": [
        "data_clean_iqr[\"electronicos_articulos_hogar\"].to_csv('electronicos_articulos_hogar.csv')\n",
        "files.download('electronicos_articulos_hogar.csv')"
      ]
    },
    {
      "cell_type": "markdown",
      "metadata": {
        "id": "EpvuTjiT_48H"
      },
      "source": [
        "#**otros**"
      ]
    },
    {
      "cell_type": "code",
      "execution_count": null,
      "metadata": {
        "colab": {
          "base_uri": "https://localhost:8080/",
          "height": 333
        },
        "id": "tSGfR5fg_48H",
        "outputId": "0f73ec2a-73ae-4597-b98a-51da0834b02c"
      },
      "outputs": [],
      "source": [
        "fig = plt.figure(figsize =(5, 3))\n",
        "plt.hist(x=df[\"otros\"], color='blue', rwidth=0.50)\n",
        "plt.title('Histograma de otros')\n",
        "plt.xlabel('otros')\n",
        "plt.ylabel('Frecuencia')\n",
        "plt.show()"
      ]
    },
    {
      "cell_type": "code",
      "execution_count": null,
      "metadata": {
        "colab": {
          "base_uri": "https://localhost:8080/",
          "height": 314
        },
        "id": "GQDlchH6_48I",
        "outputId": "ddec2af2-cd21-49be-d127-4588c16009cc"
      },
      "outputs": [],
      "source": [
        "fig = plt.figure(figsize =(5, 3))\n",
        "plt.boxplot(df[\"otros\"]) \n",
        "plt.title(\"Outliers de otros\")\n",
        "plt.show()"
      ]
    },
    {
      "cell_type": "code",
      "execution_count": null,
      "metadata": {
        "colab": {
          "base_uri": "https://localhost:8080/"
        },
        "id": "kmzxM2d3AC_F",
        "outputId": "88e67548-294f-4358-f4b9-a2597e41c32f"
      },
      "outputs": [],
      "source": [
        "#Método aplicando Cuartiles. Encuentro cuartiles 0.25 y 0.75\n",
        "y=df[\"otros\"]\n",
        "\n",
        "percentile25=y.quantile(0.25) #Q1\n",
        "percentile75=y.quantile(0.75) #Q3\n",
        "iqr= percentile75 - percentile25\n",
        "\n",
        "Limite_Superior_iqr= percentile75 + 1.5*iqr\n",
        "Limite_Inferior_iqr= percentile25 - 1.5*iqr\n",
        "print(\"Limite superior permitido\", Limite_Superior_iqr)\n",
        "print(\"Limite inferior permitido\", Limite_Inferior_iqr)"
      ]
    },
    {
      "cell_type": "code",
      "execution_count": null,
      "metadata": {
        "colab": {
          "base_uri": "https://localhost:8080/",
          "height": 237
        },
        "id": "XwbY2Ep5AC_G",
        "outputId": "1b9445ab-d883-4137-dbf5-70b9dd738f9a"
      },
      "outputs": [],
      "source": [
        "#Encontramos Ouliers\n",
        "outliers_iqr= df[(y>Limite_Superior_iqr)|(y<Limite_Inferior_iqr)]\n",
        "outliers_iqr"
      ]
    },
    {
      "cell_type": "code",
      "execution_count": null,
      "metadata": {
        "colab": {
          "base_uri": "https://localhost:8080/",
          "height": 487
        },
        "id": "3y7jdtAGAC_G",
        "outputId": "641c50db-bac3-4845-815f-ea28f043704a"
      },
      "outputs": [],
      "source": [
        "#Obtenemos datos limpios\n",
        "data_clean_iqr= df[(y<=Limite_Superior_iqr)&(y>=Limite_Inferior_iqr)]\n",
        "data_clean_iqr"
      ]
    },
    {
      "cell_type": "code",
      "execution_count": null,
      "metadata": {
        "colab": {
          "base_uri": "https://localhost:8080/",
          "height": 314
        },
        "id": "l0tpWmEhAC_G",
        "outputId": "277660e9-685b-4024-e474-472209419260"
      },
      "outputs": [],
      "source": [
        "#Realizamos diagrama de caja o bigote\n",
        "fig = plt.figure(figsize =(5, 3))\n",
        "plt.boxplot(data_clean_iqr[\"otros\"]) \n",
        "plt.title(\"Outliers de otros\")\n",
        "plt.show() #dibujamos el diagrama"
      ]
    },
    {
      "cell_type": "code",
      "execution_count": null,
      "metadata": {
        "colab": {
          "base_uri": "https://localhost:8080/",
          "height": 17
        },
        "id": "PjS-mOvLAC_G",
        "outputId": "3938bf63-d19f-483c-ba2b-eef733a3609c"
      },
      "outputs": [],
      "source": [
        "data_clean_iqr[\"otros\"].to_csv('otros.csv')\n",
        "files.download('otros.csv')"
      ]
    }
  ],
  "metadata": {
    "colab": {
      "authorship_tag": "ABX9TyNegyrRKCMg7E+4aW4F8Vty",
      "include_colab_link": true,
      "provenance": []
    },
    "kernelspec": {
      "display_name": "Python 3",
      "name": "python3"
    },
    "language_info": {
      "codemirror_mode": {
        "name": "ipython",
        "version": 3
      },
      "file_extension": ".py",
      "mimetype": "text/x-python",
      "name": "python",
      "nbconvert_exporter": "python",
      "pygments_lexer": "ipython3",
      "version": "3.12.3"
    }
  },
  "nbformat": 4,
  "nbformat_minor": 0
}
